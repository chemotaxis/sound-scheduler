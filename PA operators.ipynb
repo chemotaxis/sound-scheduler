{
 "cells": [
  {
   "cell_type": "code",
   "execution_count": 4,
   "metadata": {
    "collapsed": true
   },
   "outputs": [],
   "source": [
    "import datetime\n",
    "import random as r"
   ]
  },
  {
   "cell_type": "code",
   "execution_count": 82,
   "metadata": {
    "collapsed": true
   },
   "outputs": [],
   "source": [
    "operators = {\n",
    "    'Sun AM': ['Ethan', 'Kurt'], \n",
    "    'Sun PM': ['Kurt', 'Troy', 'Bill'], \n",
    "    'Wed': ['Ethan', 'Kurt', 'Troy', 'Bill']\n",
    "}"
   ]
  },
  {
   "cell_type": "code",
   "execution_count": 38,
   "metadata": {
    "collapsed": true
   },
   "outputs": [],
   "source": [
    "today = datetime.date.today()\n",
    "last_day = datetime.date(2017, 9, 1)\n",
    "pa_days = {\n",
    "    3: 'Wednesday', \n",
    "    7: 'Sunday'\n",
    "}"
   ]
  },
  {
   "cell_type": "code",
   "execution_count": 48,
   "metadata": {
    "collapsed": false
   },
   "outputs": [],
   "source": [
    "def sound_shifts(start_date, end_date):\n",
    "    for day in range(start_date.toordinal(), end_date.toordinal()+1):\n",
    "        full_date = datetime.date.fromordinal(day)\n",
    "        weekday_num = datetime.date.isoweekday(full_date)\n",
    "        if weekday_num in pa_days:\n",
    "            weekday = pa_days[weekday_num]\n",
    "\n",
    "            if weekday is 'Sunday':\n",
    "                yield full_date, 'Sun AM'\n",
    "                yield full_date, 'Sun PM'\n",
    "            if weekday is 'Wednesday':\n",
    "                yield full_date, 'Wed'"
   ]
  },
  {
   "cell_type": "code",
   "execution_count": 84,
   "metadata": {
    "collapsed": true
   },
   "outputs": [],
   "source": [
    "from collections import Counter"
   ]
  },
  {
   "cell_type": "code",
   "execution_count": 89,
   "metadata": {
    "collapsed": false
   },
   "outputs": [
    {
     "name": "stdout",
     "output_type": "stream",
     "text": [
      "06/18/17 Sun AM Kurt \n",
      "06/18/17 Sun PM Kurt \n",
      "06/21/17 Wed    Kurt \n",
      "06/25/17 Sun AM Kurt \n",
      "06/25/17 Sun PM Troy \n",
      "06/28/17 Wed    Bill \n",
      "07/02/17 Sun AM Kurt \n",
      "07/02/17 Sun PM Kurt \n",
      "07/05/17 Wed    Ethan\n",
      "07/09/17 Sun AM Ethan\n",
      "07/09/17 Sun PM Troy \n",
      "07/12/17 Wed    Troy \n",
      "07/16/17 Sun AM Kurt \n",
      "07/16/17 Sun PM Bill \n",
      "07/19/17 Wed    Kurt \n",
      "07/23/17 Sun AM Ethan\n",
      "07/23/17 Sun PM Troy \n",
      "07/26/17 Wed    Troy \n",
      "07/30/17 Sun AM Ethan\n",
      "07/30/17 Sun PM Bill \n",
      "08/02/17 Wed    Ethan\n",
      "08/06/17 Sun AM Ethan\n",
      "08/06/17 Sun PM Bill \n",
      "08/09/17 Wed    Bill \n",
      "08/13/17 Sun AM Ethan\n",
      "08/13/17 Sun PM Troy \n",
      "08/16/17 Wed    Ethan\n",
      "08/20/17 Sun AM Ethan\n",
      "08/20/17 Sun PM Bill \n",
      "08/23/17 Wed    Troy \n",
      "08/27/17 Sun AM Kurt \n",
      "08/27/17 Sun PM Bill \n",
      "08/30/17 Wed    Troy \n",
      "Counter({'Kurt': 9, 'Ethan': 9, 'Troy': 8, 'Bill': 7})\n"
     ]
    }
   ],
   "source": [
    "operator_counts = Counter()\n",
    "for date, shift in sound_shifts(today, last_day):\n",
    "    sound_person = r.choice(operators[shift])\n",
    "    operator_counts.update([sound_person])\n",
    "    \n",
    "    print('{} {:6} {:5}'.format(date.strftime('%D'), shift, sound_person))\n",
    "\n",
    "print(operator_counts)"
   ]
  },
  {
   "cell_type": "code",
   "execution_count": null,
   "metadata": {
    "collapsed": true
   },
   "outputs": [],
   "source": []
  }
 ],
 "metadata": {
  "anaconda-cloud": {},
  "kernelspec": {
   "display_name": "Python [default]",
   "language": "python",
   "name": "python3"
  },
  "language_info": {
   "codemirror_mode": {
    "name": "ipython",
    "version": 3
   },
   "file_extension": ".py",
   "mimetype": "text/x-python",
   "name": "python",
   "nbconvert_exporter": "python",
   "pygments_lexer": "ipython3",
   "version": "3.5.2"
  }
 },
 "nbformat": 4,
 "nbformat_minor": 1
}
