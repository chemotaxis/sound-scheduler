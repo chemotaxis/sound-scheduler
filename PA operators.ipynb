{
 "cells": [
  {
   "cell_type": "code",
   "execution_count": 15,
   "metadata": {
    "collapsed": true
   },
   "outputs": [],
   "source": [
    "import datetime\n",
    "import random as r\n",
    "import collections\n",
    "from collections import Counter"
   ]
  },
  {
   "cell_type": "code",
   "execution_count": 89,
   "metadata": {
    "collapsed": true
   },
   "outputs": [],
   "source": [
    "availability = {\n",
    "    'Ethan': {'Sun AM', 'Wed'}, \n",
    "    'Kurt': {'Sun AM', 'Sun PM', 'Wed'}, \n",
    "    'Troy': {'Sun PM', 'Wed'}, \n",
    "    'Bill': {'Sun PM', 'Wed'}\n",
    "}\n",
    "\n",
    "class Operators:\n",
    "    \"\"\"Information on sound operators\"\"\"\n",
    "    \n",
    "    def __init__(self, avail):\n",
    "        self.availability = transform_avail(avail)\n",
    "        self.names = avail.keys()\n",
    "        \n",
    "    def __len__(self): return len(self.names)\n",
    "    \n",
    "    def transform_avail(self, d):\n",
    "        d = collections.defaultdict(list)\n",
    "        for name, days in availability.items():\n",
    "            for day in days:\n",
    "                d[day].append(name)\n",
    "        return d\n",
    "\n",
    "def sound_shifts(start_date, end_date):\n",
    "    \"\"\"An iterator that emits operating shifts for a given date range\"\"\"\n",
    "    for day in range(start_date.toordinal(), end_date.toordinal()+1):\n",
    "        full_date = datetime.date.fromordinal(day)\n",
    "        weekday = full_date.strftime('%A')\n",
    "\n",
    "        if weekday == 'Sunday':\n",
    "            yield full_date, 'Sun AM'\n",
    "            yield full_date, 'Sun PM'\n",
    "        elif weekday == 'Wednesday':\n",
    "            yield full_date, 'Wed'\n",
    "            \n",
    "def sound_scheduler(operators):\n",
    "    \"\"\"Randomly assign operators to a shift\"\"\"\n",
    "    \n",
    "    lo, hi, n = 0, 10, 0\n",
    "    while hi-lo > 2 and n != len(operators):\n",
    "        operator_counts = Counter()\n",
    "        schedule = []\n",
    "        for date, shift in sound_shifts(today, last_day):\n",
    "            sound_person = r.choice(operators.availability[shift])\n",
    "            operator_counts.update([sound_person])\n",
    "\n",
    "            line = '{}\\t{:6} {:5}'.format(date.strftime('%b %d'), shift, sound_person)\n",
    "            schedule.append(line)\n",
    "\n",
    "        n = operator_counts.values()\n",
    "        lo, hi = min(n), max(n)\n",
    "        \n",
    "    return operator_counts, schedule"
   ]
  },
  {
   "cell_type": "code",
   "execution_count": 90,
   "metadata": {
    "collapsed": true
   },
   "outputs": [],
   "source": [
    "operators = Operators(availability)\n",
    "\n",
    "today = datetime.date.today()\n",
    "last_day = datetime.date(2017, 9, 1)"
   ]
  },
  {
   "cell_type": "code",
   "execution_count": 153,
   "metadata": {
    "collapsed": false
   },
   "outputs": [
    {
     "name": "stdout",
     "output_type": "stream",
     "text": [
      "Counter({'Kurt': 9, 'Ethan': 8, 'Troy': 7, 'Bill': 7})\n",
      "Jun 21\tWed    Bill \n",
      "Jun 25\tSun AM Kurt \n",
      "Jun 25\tSun PM Troy \n",
      "Jun 28\tWed    Troy \n",
      "Jul 02\tSun AM Kurt \n",
      "Jul 02\tSun PM Bill \n",
      "Jul 05\tWed    Kurt \n",
      "Jul 09\tSun AM Ethan\n",
      "Jul 09\tSun PM Bill \n",
      "Jul 12\tWed    Ethan\n",
      "Jul 16\tSun AM Ethan\n",
      "Jul 16\tSun PM Troy \n",
      "Jul 19\tWed    Bill \n",
      "Jul 23\tSun AM Ethan\n",
      "Jul 23\tSun PM Kurt \n",
      "Jul 26\tWed    Bill \n",
      "Jul 30\tSun AM Ethan\n",
      "Jul 30\tSun PM Troy \n",
      "Aug 02\tWed    Ethan\n",
      "Aug 06\tSun AM Ethan\n",
      "Aug 06\tSun PM Kurt \n",
      "Aug 09\tWed    Kurt \n",
      "Aug 13\tSun AM Kurt \n",
      "Aug 13\tSun PM Bill \n",
      "Aug 16\tWed    Bill \n",
      "Aug 20\tSun AM Ethan\n",
      "Aug 20\tSun PM Troy \n",
      "Aug 23\tWed    Kurt \n",
      "Aug 27\tSun AM Kurt \n",
      "Aug 27\tSun PM Troy \n",
      "Aug 30\tWed    Troy \n"
     ]
    }
   ],
   "source": [
    "c, s = sound_scheduler(operators)\n",
    "\n",
    "print(c)\n",
    "print('\\n'.join(s))"
   ]
  },
  {
   "cell_type": "code",
   "execution_count": null,
   "metadata": {
    "collapsed": true
   },
   "outputs": [],
   "source": []
  },
  {
   "cell_type": "code",
   "execution_count": null,
   "metadata": {
    "collapsed": true
   },
   "outputs": [],
   "source": []
  }
 ],
 "metadata": {
  "anaconda-cloud": {},
  "kernelspec": {
   "display_name": "Python [default]",
   "language": "python",
   "name": "python3"
  },
  "language_info": {
   "codemirror_mode": {
    "name": "ipython",
    "version": 3
   },
   "file_extension": ".py",
   "mimetype": "text/x-python",
   "name": "python",
   "nbconvert_exporter": "python",
   "pygments_lexer": "ipython3",
   "version": "3.5.2"
  }
 },
 "nbformat": 4,
 "nbformat_minor": 1
}
