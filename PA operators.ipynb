{
 "cells": [
  {
   "cell_type": "code",
   "execution_count": 48,
   "metadata": {
    "collapsed": true
   },
   "outputs": [],
   "source": [
    "import datetime\n",
    "import random as r\n",
    "import collections\n",
    "import bisect, itertools\n",
    "from collections import Counter\n",
    "from contextlib import contextmanager\n",
    "from string import Template"
   ]
  },
  {
   "cell_type": "code",
   "execution_count": 49,
   "metadata": {
    "collapsed": true
   },
   "outputs": [],
   "source": [
    "availability = {\n",
    "    'Ethan': {'Sun AM', 'Wed'}, \n",
    "    'Kurt': {'Sun AM', 'Sun PM', 'Wed'}, \n",
    "    'Troy': {'Sun PM', 'Wed'}, \n",
    "    'Bill': {'Sun PM', 'Wed'}\n",
    "}\n",
    "\n",
    "class Operators:\n",
    "    \"\"\"Information on sound operators\"\"\"\n",
    "    \n",
    "    def __init__(self, avail):\n",
    "        self.availability = self.transform_avail(avail)\n",
    "        self.names = list(avail.keys())\n",
    "        \n",
    "    def __len__(self): return len(self.names)\n",
    "    \n",
    "    def transform_avail(self, d):\n",
    "        d = collections.defaultdict(list)\n",
    "        for name, days in availability.items():\n",
    "            for day in days:\n",
    "                d[day].append(name)\n",
    "        return d\n",
    "\n",
    "def sound_shifts(start_date, end_date):\n",
    "    \"\"\"An iterator that emits operating shifts for a given date range\"\"\"\n",
    "    for day in range(start_date.toordinal(), end_date.toordinal()+1):\n",
    "        full_date = datetime.date.fromordinal(day)\n",
    "        weekday = full_date.strftime('%A')\n",
    "\n",
    "        if weekday == 'Sunday':\n",
    "            yield full_date, 'Sun AM'\n",
    "            yield full_date, 'Sun PM'\n",
    "        elif weekday == 'Wednesday':\n",
    "            yield full_date, 'Wed'\n",
    "            \n",
    "def sound_scheduler(operators):\n",
    "    \"\"\"Randomly assign operators to a shift\"\"\"\n",
    "    \n",
    "    lo, hi, n = 0, 10, 0\n",
    "    while hi-lo > 2 and n != len(operators):\n",
    "        operator_counts = Counter()\n",
    "        schedule = []\n",
    "        for date, shift in sound_shifts(today, last_day):\n",
    "            sound_person = r.choice(operators.availability[shift])\n",
    "            operator_counts.update([sound_person])\n",
    "            \n",
    "            line = [date.strftime('%b %d'), shift, sound_person]\n",
    "            schedule.append(line)\n",
    "\n",
    "        n = operator_counts.values()\n",
    "        lo, hi = min(n), max(n)\n",
    "        \n",
    "    return operator_counts, schedule\n",
    "\n",
    "@contextmanager\n",
    "def tags(name, table, indent_level=0):\n",
    "    indent = '\\t' * indent_level\n",
    "    table.append('{}<{}>'.format(indent, name))\n",
    "    yield\n",
    "    table.append('{}</{}>'.format(indent, name))\n",
    "\n",
    "def table(data, head=[]):\n",
    "    \"\"\"data is a list of lists\"\"\"\n",
    "    indent = '\\t'\n",
    "    table = []\n",
    "    with tags('table', table):\n",
    "        for row in data:\n",
    "            with tags('tr', table, 1):\n",
    "                cells = ''.join(['<td>{}</td>'.format(cell) for cell in row])\n",
    "                table.append(indent*2 + cells)\n",
    "            \n",
    "    return table\n",
    "def add_indent(string_list, level, indent_char='\\t'):\n",
    "    return [indent_char*level + item for item in string_list]\n",
    "        "
   ]
  },
  {
   "cell_type": "code",
   "execution_count": 50,
   "metadata": {
    "collapsed": false
   },
   "outputs": [],
   "source": [
    "operators = Operators(availability)\n",
    "\n",
    "today = datetime.date.today()\n",
    "last_day = datetime.date(2017, 9, 1)"
   ]
  },
  {
   "cell_type": "code",
   "execution_count": 51,
   "metadata": {
    "collapsed": true
   },
   "outputs": [],
   "source": [
    "def choices(population, rel_weights):\n",
    "    cum_weights = list(itertools.accumulate(rel_weights))\n",
    "    x = r.random() * cum_weights[-1]\n",
    "    ix = bisect.bisect(cum_weights, x)\n",
    "    return population[ix]"
   ]
  },
  {
   "cell_type": "code",
   "execution_count": 241,
   "metadata": {
    "collapsed": false
   },
   "outputs": [
    {
     "name": "stdout",
     "output_type": "stream",
     "text": [
      "Choices:  Counter({'Ethan': 10})\n"
     ]
    }
   ],
   "source": [
    "p = ['Ethan', 'Kurt']\n",
    "w = [10, 1]\n",
    "n = 10\n",
    "\n",
    "# r.seed(12)\n",
    "print('Choices: ', Counter((choices(p, w) for i in range(n))))\n",
    "# print('Choice:  ', Counter((r.choice(p) for i in range(n))))"
   ]
  },
  {
   "cell_type": "code",
   "execution_count": 99,
   "metadata": {
    "collapsed": false
   },
   "outputs": [],
   "source": [
    "counts, schedule = sound_scheduler(operators)"
   ]
  },
  {
   "cell_type": "code",
   "execution_count": 30,
   "metadata": {
    "collapsed": true
   },
   "outputs": [],
   "source": [
    "from importlib import reload\n",
    "import soundscheduler"
   ]
  },
  {
   "cell_type": "code",
   "execution_count": 36,
   "metadata": {
    "collapsed": false
   },
   "outputs": [
    {
     "name": "stdout",
     "output_type": "stream",
     "text": [
      "1000 loops, best of 3: 1.23 ms per loop\n"
     ]
    }
   ],
   "source": [
    "reload(soundscheduler)\n",
    "\n",
    "%timeit soundscheduler.main()"
   ]
  },
  {
   "cell_type": "code",
   "execution_count": null,
   "metadata": {
    "collapsed": true
   },
   "outputs": [],
   "source": []
  }
 ],
 "metadata": {
  "anaconda-cloud": {},
  "kernelspec": {
   "display_name": "Python [default]",
   "language": "python",
   "name": "python3"
  },
  "language_info": {
   "codemirror_mode": {
    "name": "ipython",
    "version": 3
   },
   "file_extension": ".py",
   "mimetype": "text/x-python",
   "name": "python",
   "nbconvert_exporter": "python",
   "pygments_lexer": "ipython3",
   "version": "3.5.2"
  }
 },
 "nbformat": 4,
 "nbformat_minor": 1
}
